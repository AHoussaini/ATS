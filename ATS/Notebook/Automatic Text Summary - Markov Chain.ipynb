{
 "cells": [
  {
   "cell_type": "markdown",
   "metadata": {},
   "source": [
    "# Automatic Text Summary : Based on Markov chain"
   ]
  },
  {
   "cell_type": "code",
   "execution_count": 181,
   "metadata": {},
   "outputs": [],
   "source": [
    "import random\n",
    "import numpy as np"
   ]
  },
  {
   "cell_type": "markdown",
   "metadata": {},
   "source": [
    "## Get input text : Text in English"
   ]
  },
  {
   "cell_type": "code",
   "execution_count": 251,
   "metadata": {},
   "outputs": [],
   "source": [
    "text_to_summary_eng.close()"
   ]
  },
  {
   "cell_type": "code",
   "execution_count": 182,
   "metadata": {},
   "outputs": [
    {
     "name": "stdout",
     "output_type": "stream",
     "text": [
      "Volume is an important indicator in technical analysis as it is used to measure the relative worth of a market move. If the markets make a strong price movement, then the strength of that movement depends on the volume for that period. The higher the volume during the price move, the more significant the move.\n",
      "\n",
      "\n",
      "\n",
      "Fundamental analysis is based on company performance and is used to determine which stock to buy. Technical analysis is based on stock price and is used to determine when to buy. Technical analysts are primarily looking for entry and exit price points, and volume levels provide clues about where the best entry and exit points are located.\n"
     ]
    }
   ],
   "source": [
    "text_to_summary_eng = open('../data/text_sample_volume_definition_eng.txt',encoding='utf-8')\n",
    "\n",
    "for sent in text_to_summary_eng:\n",
    "    print(sent)\n",
    "text_to_summary_eng.close()"
   ]
  },
  {
   "cell_type": "markdown",
   "metadata": {},
   "source": [
    "## Generated Transition Matrix in dictionnary format "
   ]
  },
  {
   "cell_type": "code",
   "execution_count": 183,
   "metadata": {},
   "outputs": [],
   "source": [
    "text_to_summary_eng = open('../data/text_sample_volume_definition.txt',encoding='utf-8')\n",
    "\n",
    "model = {}\n",
    "\n",
    "for line in text_to_summary_eng:\n",
    "    line_ = line.split()\n",
    "    for i, word in enumerate(line_):\n",
    "        if i==len(line_)-1:\n",
    "            model['END'] = model.get('END',[]) + [word]\n",
    "        else:\n",
    "            if i ==0:\n",
    "                model['START'] = model.get('START',[]) + [word]\n",
    "            model[word] = model.get(word,[]) + [line_[i+1]]\n",
    "text_to_summary_eng.close()"
   ]
  },
  {
   "cell_type": "code",
   "execution_count": 184,
   "metadata": {},
   "outputs": [],
   "source": [
    "## Debug\n",
    "#model"
   ]
  },
  {
   "cell_type": "markdown",
   "metadata": {},
   "source": [
    "### Change frequencies of word in transition matrix : We remove duplicated words "
   ]
  },
  {
   "cell_type": "code",
   "execution_count": 185,
   "metadata": {},
   "outputs": [],
   "source": [
    "# We keep one backup of original dictionnary\n",
    "\n",
    "model_backup = model\n",
    "sorted_list = dict()\n",
    "\n",
    "for item in model:\n",
    "    if item not in sorted_list:\n",
    "        sorted_list[item] = list(set(model[item]))\n",
    "final_model = sorted_list"
   ]
  },
  {
   "cell_type": "code",
   "execution_count": 186,
   "metadata": {},
   "outputs": [],
   "source": [
    "## Debug\n",
    "#final_model"
   ]
  },
  {
   "cell_type": "markdown",
   "metadata": {},
   "source": [
    "### We generated one string output starting by 'START' token, loop on the 'body' tokens, ending by 'END' token"
   ]
  },
  {
   "cell_type": "code",
   "execution_count": 187,
   "metadata": {},
   "outputs": [
    {
     "name": "stdout",
     "output_type": "stream",
     "text": [
      "Volume is used to measure the price and exit price movement, then the strength of a strong price points, and volume for that movement depends on stock price points, and is used to buy. Technical analysts are located.\n"
     ]
    }
   ],
   "source": [
    "random.seed(17)\n",
    "generated = []\n",
    "\n",
    "while True:\n",
    "    if not generated:\n",
    "        words = final_model['START']\n",
    "    elif generated[-1] in final_model['END']:\n",
    "        break\n",
    "    else:\n",
    "        words = final_model[generated[-1]]\n",
    "    generated.append(random.choice(words))\n",
    "\n",
    "# Final result\n",
    "output_seed_17 = (' ').join(generated)\n",
    "print(output_seed_17)"
   ]
  },
  {
   "cell_type": "markdown",
   "metadata": {},
   "source": [
    "## French Sample "
   ]
  },
  {
   "cell_type": "markdown",
   "metadata": {},
   "source": [
    "### Source : https://www.lemonde.fr/economie/article/2019/11/12/l-accord-controverse-de-google-avec-plus-de-cent-cinquante-hopitaux-aux-etats-unis_6018878_3234.html "
   ]
  },
  {
   "cell_type": "markdown",
   "metadata": {},
   "source": [
    "### Open File"
   ]
  },
  {
   "cell_type": "code",
   "execution_count": 188,
   "metadata": {},
   "outputs": [
    {
     "name": "stdout",
     "output_type": "stream",
     "text": [
      "Le géant du numérique, par le biais de sa plate-forme d’hébergement de données en ligne (Google Cloud), a en effet signé un accord avec Ascension, l’un des plus gros acteurs de la santé aux Etats-Unis, qui exploite deux mille six cents sites de soins, dont cent cinquante hôpitaux et cinquante maisons de personnes âgées. Le contrat – le plus important négocié par la firme de Mountain View (Californie) dans le secteur – prévoit le transfert des dossiers médicaux complets : identité des patients, diagnostics, résultats d’examens, antécédents.\n"
     ]
    }
   ],
   "source": [
    "text_to_summary_fr = open('../data/text_sample_article_lemonde_fr.txt',encoding='utf-8')\n",
    "\n",
    "for sent in text_to_summary_fr:\n",
    "    print(sent)\n",
    "\n",
    "text_to_summary_fr.close()"
   ]
  },
  {
   "cell_type": "markdown",
   "metadata": {},
   "source": [
    "### Generate Transition Matrix"
   ]
  },
  {
   "cell_type": "code",
   "execution_count": 190,
   "metadata": {},
   "outputs": [],
   "source": [
    "text_to_summary_fr = open('../data/text_sample_article_lemonde_fr.txt',encoding='utf-8')\n",
    "\n",
    "model = {}\n",
    "\n",
    "for line in text_to_summary_fr:\n",
    "    line_ = line.split()\n",
    "    for i, word in enumerate(line_):\n",
    "        if i==len(line_)-1:\n",
    "            model['END'] = model.get('END',[]) + [word]\n",
    "        else:\n",
    "            if i ==0:\n",
    "                model['START'] = model.get('START',[]) + [word]\n",
    "            model[word] = model.get(word,[]) + [line_[i+1]]\n",
    "\n",
    "text_to_summary_fr.close()"
   ]
  },
  {
   "cell_type": "code",
   "execution_count": 191,
   "metadata": {},
   "outputs": [],
   "source": [
    "## Debug\n",
    "#model"
   ]
  },
  {
   "cell_type": "markdown",
   "metadata": {},
   "source": [
    "### Remove duplicated words within Transition Matrix"
   ]
  },
  {
   "cell_type": "code",
   "execution_count": 192,
   "metadata": {},
   "outputs": [],
   "source": [
    "# We keep one backup of original dictionnary\n",
    "\n",
    "model_backup = model\n",
    "sorted_list = dict()\n",
    "\n",
    "for item in model:\n",
    "    if item not in sorted_list:\n",
    "        sorted_list[item] = list(set(model[item]))\n",
    "final_model = sorted_list"
   ]
  },
  {
   "cell_type": "markdown",
   "metadata": {},
   "source": [
    "### Summarization "
   ]
  },
  {
   "cell_type": "code",
   "execution_count": 193,
   "metadata": {},
   "outputs": [
    {
     "name": "stdout",
     "output_type": "stream",
     "text": [
      "Le contrat – le transfert des plus important négocié par le biais de sa plate-forme d’hébergement de Mountain View (Californie) dans le secteur – prévoit le transfert des patients, diagnostics, résultats d’examens, antécédents.\n"
     ]
    }
   ],
   "source": [
    "random.seed(16)\n",
    "generated = []\n",
    "\n",
    "while True:\n",
    "    if not generated:\n",
    "        words = final_model['START']\n",
    "    elif generated[-1] in final_model['END']:\n",
    "        break\n",
    "    else:\n",
    "        words = final_model[generated[-1]]\n",
    "    generated.append(random.choice(words))\n",
    "    \n",
    "# Final result\n",
    "output_seed_16 = (' ').join(generated)\n",
    "print(output_seed_16)"
   ]
  },
  {
   "cell_type": "markdown",
   "metadata": {},
   "source": [
    "## Another French Sample"
   ]
  },
  {
   "cell_type": "markdown",
   "metadata": {},
   "source": [
    "### Source : http://heukeleveuchi.e-monsite.com/pages/la-terre-en-bas/les-contes-de-la-terre-en-bas-a-droite/l-histoire-du-gnome.html "
   ]
  },
  {
   "cell_type": "code",
   "execution_count": 211,
   "metadata": {},
   "outputs": [
    {
     "name": "stdout",
     "output_type": "stream",
     "text": [
      "La naissance du premier Gnome remonte à fort longtemps, au temps où l'écriture venait d'être découverte. \n",
      "\n",
      "\n",
      "\n",
      "Il existait dans un village un idiot qui dessinait, ma fois, fort bien. Les Dieux même l'admiraient. \n",
      "\n",
      "\n",
      "\n",
      "Un jour, le dieu du dessin, Malpolichrome, lui accorda un don : ce qu'il dessinerait deviendrait réel. \n",
      "\n",
      "\n",
      "\n",
      "L'idiot, qui comme son surnom l'indique, n'était pas très intelligent. \n",
      "\n",
      "\n",
      "\n",
      "Il décida donc de créer une créature surpuissante, capable de résister aux Dieux. \n",
      "\n",
      "\n",
      "\n",
      "Hélas, le don de Malpolichrome n'était pas très facile à utiliser ... l'idiot créa donc une créature bleue et difforme ... Créature qui donnera, un jour le premier Gnome. \n",
      "\n",
      "\n",
      "\n",
      "Comme vous l'aurez certainement deviné, les Dieux furent fort mécontents de cette nouvelle force de la nature. \n",
      "\n",
      "\n",
      "\n",
      "Ils tuèrent l'idiot. Celui-ci avait cependant eu le temps de donner son nom à la créature : l'Idiome !!! (qui donnera d'autres sens, comme certains le savent déjà).\n"
     ]
    }
   ],
   "source": [
    "text_to_summary_gnomes = open('../data/text_sample_article_gnomes_fr.txt',encoding='utf-8')\n",
    "\n",
    "for sent in text_to_summary_gnomes:\n",
    "    print(sent)\n",
    "\n",
    "text_to_summary_gnomes.close()"
   ]
  },
  {
   "cell_type": "markdown",
   "metadata": {},
   "source": [
    "### Generated raw transition matrix "
   ]
  },
  {
   "cell_type": "code",
   "execution_count": 212,
   "metadata": {},
   "outputs": [],
   "source": [
    "text_to_summary_gnomes = open('../data/text_sample_article_gnomes_fr.txt',encoding='utf-8')\n",
    "\n",
    "model = {}\n",
    "\n",
    "for line in text_to_summary_gnomes:\n",
    "    line_ = line.split()\n",
    "    for i, word in enumerate(line_):\n",
    "        if i==len(line_)-1:\n",
    "            model['END'] = model.get('END',[]) + [word]\n",
    "        else:\n",
    "            if i ==0:\n",
    "                model['START'] = model.get('START',[]) + [word]\n",
    "            model[word] = model.get(word,[]) + [line_[i+1]]\n",
    "text_to_summary_gnomes.close()"
   ]
  },
  {
   "cell_type": "code",
   "execution_count": 213,
   "metadata": {},
   "outputs": [],
   "source": [
    "## Debug\n",
    "#model"
   ]
  },
  {
   "cell_type": "markdown",
   "metadata": {},
   "source": [
    "### Remove duplicated words within Transition Matrix"
   ]
  },
  {
   "cell_type": "code",
   "execution_count": 214,
   "metadata": {},
   "outputs": [],
   "source": [
    "# We keep one backup of original dictionnary\n",
    "\n",
    "model_backup = model\n",
    "sorted_list = dict()\n",
    "\n",
    "for item in model:\n",
    "    if item not in sorted_list:\n",
    "        sorted_list[item] = list(set(model[item]))\n",
    "final_model = sorted_list"
   ]
  },
  {
   "cell_type": "code",
   "execution_count": 215,
   "metadata": {},
   "outputs": [
    {
     "data": {
      "text/plain": [
       "{'START': ['Hélas,', 'Ils', \"L'idiot,\", 'Comme', 'La', 'Un', 'Il'],\n",
       " 'La': ['naissance'],\n",
       " 'naissance': ['du'],\n",
       " 'du': ['premier', 'dessin,'],\n",
       " 'premier': ['Gnome.', 'Gnome'],\n",
       " 'Gnome': ['remonte'],\n",
       " 'remonte': ['à'],\n",
       " 'à': ['fort', 'la', 'utiliser'],\n",
       " 'fort': ['longtemps,', 'bien.', 'mécontents'],\n",
       " 'longtemps,': ['au'],\n",
       " 'au': ['temps'],\n",
       " 'temps': ['où', 'de'],\n",
       " 'où': [\"l'écriture\"],\n",
       " \"l'écriture\": ['venait'],\n",
       " 'venait': [\"d'être\"],\n",
       " \"d'être\": ['découverte.'],\n",
       " 'END': ['déjà).',\n",
       "  'réel.',\n",
       "  \"l'admiraient.\",\n",
       "  'Gnome.',\n",
       "  'Dieux.',\n",
       "  'découverte.',\n",
       "  'intelligent.',\n",
       "  'nature.'],\n",
       " 'Il': ['décida', 'existait'],\n",
       " 'existait': ['dans'],\n",
       " 'dans': ['un'],\n",
       " 'un': ['idiot', 'jour', 'don', 'village'],\n",
       " 'village': ['un'],\n",
       " 'idiot': ['qui'],\n",
       " 'qui': ['dessinait,', 'donnera,', 'comme'],\n",
       " 'dessinait,': ['ma'],\n",
       " 'ma': ['fois,'],\n",
       " 'fois,': ['fort'],\n",
       " 'bien.': ['Les'],\n",
       " 'Les': ['Dieux'],\n",
       " 'Dieux': ['même', 'furent'],\n",
       " 'même': [\"l'admiraient.\"],\n",
       " 'Un': ['jour,'],\n",
       " 'jour,': ['le'],\n",
       " 'le': ['savent', 'premier', 'don', 'temps', 'dieu'],\n",
       " 'dieu': ['du'],\n",
       " 'dessin,': ['Malpolichrome,'],\n",
       " 'Malpolichrome,': ['lui'],\n",
       " 'lui': ['accorda'],\n",
       " 'accorda': ['un'],\n",
       " 'don': [':', 'de'],\n",
       " ':': [\"l'Idiome\", 'ce'],\n",
       " 'ce': [\"qu'il\"],\n",
       " \"qu'il\": ['dessinerait'],\n",
       " 'dessinerait': ['deviendrait'],\n",
       " 'deviendrait': ['réel.'],\n",
       " \"L'idiot,\": ['qui'],\n",
       " 'comme': ['son', 'certains'],\n",
       " 'son': ['nom', 'surnom'],\n",
       " 'surnom': [\"l'indique,\"],\n",
       " \"l'indique,\": [\"n'était\"],\n",
       " \"n'était\": ['pas'],\n",
       " 'pas': ['très'],\n",
       " 'très': ['facile', 'intelligent.'],\n",
       " 'décida': ['donc'],\n",
       " 'donc': ['de', 'une'],\n",
       " 'de': ['donner', 'cette', 'Malpolichrome', 'résister', 'la', 'créer'],\n",
       " 'créer': ['une'],\n",
       " 'une': ['créature'],\n",
       " 'créature': ['bleue', ':', 'surpuissante,'],\n",
       " 'surpuissante,': ['capable'],\n",
       " 'capable': ['de'],\n",
       " 'résister': ['aux'],\n",
       " 'aux': ['Dieux.'],\n",
       " 'Hélas,': ['le'],\n",
       " 'Malpolichrome': [\"n'était\"],\n",
       " 'facile': ['à'],\n",
       " 'utiliser': ['...'],\n",
       " '...': ['Créature', \"l'idiot\"],\n",
       " \"l'idiot\": ['créa'],\n",
       " 'créa': ['donc'],\n",
       " 'bleue': ['et'],\n",
       " 'et': ['difforme'],\n",
       " 'difforme': ['...'],\n",
       " 'Créature': ['qui'],\n",
       " 'donnera,': ['un'],\n",
       " 'jour': ['le'],\n",
       " 'Comme': ['vous'],\n",
       " 'vous': [\"l'aurez\"],\n",
       " \"l'aurez\": ['certainement'],\n",
       " 'certainement': ['deviné,'],\n",
       " 'deviné,': ['les'],\n",
       " 'les': ['Dieux'],\n",
       " 'furent': ['fort'],\n",
       " 'mécontents': ['de'],\n",
       " 'cette': ['nouvelle'],\n",
       " 'nouvelle': ['force'],\n",
       " 'force': ['de'],\n",
       " 'la': ['créature', 'nature.'],\n",
       " 'Ils': ['tuèrent'],\n",
       " 'tuèrent': [\"l'idiot.\"],\n",
       " \"l'idiot.\": ['Celui-ci'],\n",
       " 'Celui-ci': ['avait'],\n",
       " 'avait': ['cependant'],\n",
       " 'cependant': ['eu'],\n",
       " 'eu': ['le'],\n",
       " 'donner': ['son'],\n",
       " 'nom': ['à'],\n",
       " \"l'Idiome\": ['!!!'],\n",
       " '!!!': ['(qui'],\n",
       " '(qui': ['donnera'],\n",
       " 'donnera': [\"d'autres\"],\n",
       " \"d'autres\": ['sens,'],\n",
       " 'sens,': ['comme'],\n",
       " 'certains': ['le'],\n",
       " 'savent': ['déjà).']}"
      ]
     },
     "execution_count": 215,
     "metadata": {},
     "output_type": "execute_result"
    }
   ],
   "source": [
    "final_model"
   ]
  },
  {
   "cell_type": "code",
   "execution_count": 249,
   "metadata": {},
   "outputs": [
    {
     "name": "stdout",
     "output_type": "stream",
     "text": [
      "Il existait dans un idiot qui dessinait, ma fois, fort mécontents de créer une créature : l'Idiome !!! (qui donnera d'autres sens, comme son surnom l'indique, n'était pas très intelligent.\n"
     ]
    }
   ],
   "source": [
    "random.seed(666667)\n",
    "generated = []\n",
    "\n",
    "while True:\n",
    "    if not generated:\n",
    "        words = final_model['START']\n",
    "    elif generated[-1] in final_model['END']:\n",
    "        break\n",
    "    else:\n",
    "        words = final_model[generated[-1]]\n",
    "    generated.append(random.choice(words))\n",
    "    \n",
    "# Final result\n",
    "output_seed_16 = (' ').join(generated)\n",
    "print(output_seed_16)"
   ]
  }
 ],
 "metadata": {
  "kernelspec": {
   "display_name": "Python 3",
   "language": "python",
   "name": "python3"
  },
  "language_info": {
   "codemirror_mode": {
    "name": "ipython",
    "version": 3
   },
   "file_extension": ".py",
   "mimetype": "text/x-python",
   "name": "python",
   "nbconvert_exporter": "python",
   "pygments_lexer": "ipython3",
   "version": "3.7.4"
  }
 },
 "nbformat": 4,
 "nbformat_minor": 2
}
